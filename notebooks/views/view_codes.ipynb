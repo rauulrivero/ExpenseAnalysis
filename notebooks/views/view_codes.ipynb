{
 "cells": [
  {
   "cell_type": "markdown",
   "metadata": {},
   "source": [
    "\n",
    "### 🗂 Categorías por código (Super_Categoría)\n",
    "\n",
    "| Código | Categoría                                                                                           |\n",
    "|--------|-----------------------------------------------------------------------------------------------------|\n",
    "| 01.1   | PRODUCTOS ALIMENTICIOS                                                                              |\n",
    "| 01.2   | BEBIDAS NO ALCOHÓLICAS                                                                              |\n",
    "| 02.1   | BEBIDAS ALCOHÓLICAS                                                                                 |\n",
    "| 02.2   | TABACO                                                                                              |\n",
    "| 03.1   | ARTÍCULOS DE VESTIR                                                                                 |\n",
    "| 03.2   | CALZADO                                                                                             |\n",
    "| 04.1   | ALQUILERES REALES DE LA VIVIENDA                                                                    |\n",
    "| 04.2   | ALQUILERES IMPUTADOS DE LA VIVIENDA                                                                 |\n",
    "| 04.3   | GASTOS CORRIENTES DE MANTENIMIENTO Y REPARACIÓN DE LA VIVIENDA                                     |\n",
    "| 04.4   | SUMINISTRO DE AGUA Y OTROS SERVICIOS RELACIONADOS CON LA VIVIENDA                                  |\n",
    "| 04.5   | ELECTRICIDAD, GAS Y OTROS COMBUSTIBLES                                                              |\n",
    "| 05.1   | MUEBLES, ARTÍCULOS DE AMUEBLAMIENTO, ALFOMBRAS Y OTROS REVESTIMIENTOS PARA SUELOS                  |\n",
    "| 05.2   | ARTÍCULOS TEXTILES PARA EL HOGAR                                                                    |\n",
    "| 05.3   | APARATOS DE CALEFACCIÓN Y DE COCINA, FRIGORÍFICOS, LAVADORAS Y OTROS GRANDES ELECTRODOMÉSTICOS     |\n",
    "| 05.4   | CRISTALERÍA, VAJILLA, CUBERTERÍA Y OTROS UTENSILIOS DEL HOGAR                                       |\n",
    "| 05.5   | HERRAMIENTAS PARA CASA Y JARDÍN                                                                     |\n",
    "| 05.6   | BIENES Y SERVICIOS PARA EL MANTENIMIENTO CORRIENTE DEL HOGAR                                       |\n",
    "| 06.1   | PRODUCTOS FARMACÉUTICOS; APARATOS Y MATERIAL TERAPÉUTICO                                            |\n",
    "| 06.2   | SERVICIOS MÉDICOS Y PARAMÉDICOS AMBULATORIOS                                                        |\n",
    "| 06.3   | SERVICIOS HOSPITALARIOS                                                                             |\n",
    "| 07.1   | COMPRA DE VEHÍCULOS                                                                                 |\n",
    "| 07.2   | UTILIZACIÓN DE VEHÍCULOS PERSONALES                                                                 |\n",
    "| 07.3   | SERVICIOS DE TRANSPORTE                                                                             |\n",
    "| 08.1   | SERVICIOS POSTALES                                                                                  |\n",
    "| 08.2   | EQUIPOS DE TELÉFONO Y FAX                                                                           |\n",
    "| 08.3   | SERVICIOS DE TELÉFONO Y FAX                                                                         |\n",
    "| 09.1   | EQUIPOS Y ACCESORIOS AUDIOVISUALES, FOTOGRÁFICOS Y DE PROCESAMIENTO DE INFORMACIÓN                 |\n",
    "| 09.2   | OTROS BIENES DURADEROS PARA EL OCIO Y LA CULTURA                                                   |\n",
    "| 09.3   | OTROS ARTÍCULOS Y EQUIPOS PARA EL OCIO, JARDINERÍA Y MASCOTAS                                      |\n",
    "| 09.4   | SERVICIOS RECREATIVOS Y CULTURALES                                                                  |\n",
    "| 09.5   | PRENSA, LIBRERÍA Y PAPELERÍA                                                                        |\n",
    "| 09.6   | PAQUETES TURÍSTICOS                                                                                 |\n",
    "| 10.1   | EDUCACIÓN INFANTIL Y PRIMARIA (NIVELES 0 Y 1 CNED-P-2014)                                           |\n",
    "| 10.2   | EDUCACIÓN SECUNDARIA Y EDUCACIÓN POSTSECUNDARIA NO SUPERIOR (NIVELES 2, 3 Y 4 CNED-P-2014)         |\n",
    "| 10.3   | EDUCACIÓN SUPERIOR (NIVELES 5, 6, 7 y 8 CNED-P-2014)                                                |\n",
    "| 10.4   | EDUCACIÓN NO FORMAL (NIVEL 9 CNED-P-2014)                                                           |\n",
    "| 11.1   | RESTAURACIÓN                                                                                        |\n",
    "| 11.2   | SERVICIOS DE ALOJAMIENTO                                                                            |\n",
    "| 12.1   | CUIDADOS PERSONALES                                                                                 |\n",
    "| 12.3   | EFECTOS PERSONALES NO DECLARADOS ANTERIORMENTE                                                     |\n",
    "| 12.4   | PROTECCIÓN SOCIAL                                                                                   |\n",
    "| 12.5   | SERVICIOS DE SEGUROS                                                                                |\n",
    "| 12.6   | SERVICIOS FINANCIEROS NO DECLARADOS EN OTRA PARTE                                                  |\n",
    "| 12.7   | OTROS SERVICIOS NO DECLARADOS ANTERIORMENTE                                                        |\n",
    "| 12.8   | REMESAS                                                                                             |\n",
    "\n",
    "\n",
    "---"
   ]
  },
  {
   "cell_type": "markdown",
   "metadata": {},
   "source": [
    "### 🗂 Categorías por código (Super_Categoría)\n",
    "\n",
    "| Código | Grupo de Gasto |\n",
    "|--------|----------------|\n",
    "| 1 | Alimentos y bebidas no alcohólicas |\n",
    "| 2 | Bebidas alcohólicas, tabaco y narcóticos |\n",
    "| 3 | Artículos de vestir y calzado |\n",
    "| 4 | Vivienda, agua, electricidad, gas y otros combustibles |\n",
    "| 5 | Mobiliario, equipamiento del hogar y gastos de conservación |\n",
    "| 6 | Salud |\n",
    "| 7 | Transportes |\n",
    "| 8 | Comunicaciones |\n",
    "| 9 | Ocio, espectáculos y cultura |\n",
    "| 10 | Enseñanza |\n",
    "| 11 | Hoteles, cafés y restaurantes |\n",
    "| 12 | Otros bienes y servicios |\n",
    "\n"
   ]
  },
  {
   "cell_type": "markdown",
   "metadata": {},
   "source": []
  }
 ],
 "metadata": {
  "kernelspec": {
   "display_name": "Python 3",
   "language": "python",
   "name": "python3"
  },
  "language_info": {
   "name": "python",
   "version": "3.10.11"
  }
 },
 "nbformat": 4,
 "nbformat_minor": 2
}
